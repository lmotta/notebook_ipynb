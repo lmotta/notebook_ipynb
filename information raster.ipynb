{
 "metadata": {
  "name": "",
  "signature": "sha256:559577010c4b494471aaaef6d4abd8046582fd7a48e78c017635a02b5acbafca"
 },
 "nbformat": 3,
 "nbformat_minor": 0,
 "worksheets": [
  {
   "cells": [
    {
     "cell_type": "heading",
     "level": 1,
     "metadata": {},
     "source": [
      "Information of image"
     ]
    },
    {
     "cell_type": "code",
     "collapsed": false,
     "input": [
      "import json, webbrowser"
     ],
     "language": "python",
     "metadata": {},
     "outputs": [],
     "prompt_number": 57
    },
    {
     "cell_type": "code",
     "collapsed": false,
     "input": [
      "from osgeo import gdal, gdal_array"
     ],
     "language": "python",
     "metadata": {},
     "outputs": [],
     "prompt_number": 58
    },
    {
     "cell_type": "code",
     "collapsed": false,
     "input": [
      "ds = gdal.Open(\"/home/lmotta/data/db_images/cbers/CBERS_4_MUX_20160419_164_118_L4_R7G8B6.tif\")"
     ],
     "language": "python",
     "metadata": {},
     "outputs": [],
     "prompt_number": 59
    },
    {
     "cell_type": "heading",
     "level": 2,
     "metadata": {},
     "source": [
      "Size"
     ]
    },
    {
     "cell_type": "code",
     "collapsed": false,
     "input": [
      "print ( ds.RasterCount, ds.RasterYSize, ds.RasterXSize )"
     ],
     "language": "python",
     "metadata": {},
     "outputs": [
      {
       "output_type": "stream",
       "stream": "stdout",
       "text": [
        "(3, 6930, 7272)\n"
       ]
      }
     ],
     "prompt_number": 60
    },
    {
     "cell_type": "heading",
     "level": 2,
     "metadata": {},
     "source": [
      "Driver and Files "
     ]
    },
    {
     "cell_type": "code",
     "collapsed": false,
     "input": [
      "info = ( ds.GetDescription(),  ds.GetDriver().GetDescription(), ds.GetFileList() )"
     ],
     "language": "python",
     "metadata": {},
     "outputs": [],
     "prompt_number": 61
    },
    {
     "cell_type": "code",
     "collapsed": false,
     "input": [
      "print '\\n'.join( [ str(i) for i in info ] )"
     ],
     "language": "python",
     "metadata": {},
     "outputs": [
      {
       "output_type": "stream",
       "stream": "stdout",
       "text": [
        "/home/lmotta/data/db_images/cbers/CBERS_4_MUX_20160419_164_118_L4_R7G8B6.tif\n",
        "GTiff\n",
        "['/home/lmotta/data/db_images/cbers/CBERS_4_MUX_20160419_164_118_L4_R7G8B6.tif', '/home/lmotta/data/db_images/cbers/CBERS_4_MUX_20160419_164_118_L4_R7G8B6.tif.aux.xml']\n"
       ]
      }
     ],
     "prompt_number": 62
    },
    {
     "cell_type": "heading",
     "level": 2,
     "metadata": {},
     "source": [
      "Georeference"
     ]
    },
    {
     "cell_type": "code",
     "collapsed": false,
     "input": [
      "print ds.GetProjectionRef()"
     ],
     "language": "python",
     "metadata": {},
     "outputs": [
      {
       "output_type": "stream",
       "stream": "stdout",
       "text": [
        "PROJCS[\"WGS 84 / UTM zone 22S\",GEOGCS[\"WGS 84\",DATUM[\"WGS_1984\",SPHEROID[\"WGS 84\",6378137,298.257223563,AUTHORITY[\"EPSG\",\"7030\"]],AUTHORITY[\"EPSG\",\"6326\"]],PRIMEM[\"Greenwich\",0,AUTHORITY[\"EPSG\",\"8901\"]],UNIT[\"degree\",0.0174532925199433,AUTHORITY[\"EPSG\",\"9122\"]],AUTHORITY[\"EPSG\",\"4326\"]],PROJECTION[\"Transverse_Mercator\"],PARAMETER[\"latitude_of_origin\",0],PARAMETER[\"central_meridian\",-51],PARAMETER[\"scale_factor\",0.9996],PARAMETER[\"false_easting\",500000],PARAMETER[\"false_northing\",10000000],UNIT[\"metre\",1,AUTHORITY[\"EPSG\",\"9001\"]],AXIS[\"Easting\",EAST],AXIS[\"Northing\",NORTH],AUTHORITY[\"EPSG\",\"32722\"]]\n"
       ]
      }
     ],
     "prompt_number": 63
    },
    {
     "cell_type": "code",
     "collapsed": false,
     "input": [
      "print ds.GetGCPCount()"
     ],
     "language": "python",
     "metadata": {},
     "outputs": [
      {
       "output_type": "stream",
       "stream": "stdout",
       "text": [
        "0\n"
       ]
      }
     ],
     "prompt_number": 64
    },
    {
     "cell_type": "code",
     "collapsed": false,
     "input": [
      "lbs, gt = ( 'UpperLefX', 'w-e pixel resolution(X)', 'w-e rotation(X)', 'UpperLefY', 'n-s rotation(Y)', 'n-s pixel resolution(Y)' ),\\\n",
      "ds.GetGeoTransform()"
     ],
     "language": "python",
     "metadata": {},
     "outputs": [],
     "prompt_number": 65
    },
    {
     "cell_type": "code",
     "collapsed": false,
     "input": [
      "for i in xrange( len( gt) ):\n",
      "    print \"{0}: {1}\\n\".format( lbs[i], gt[i] )"
     ],
     "language": "python",
     "metadata": {},
     "outputs": [
      {
       "output_type": "stream",
       "stream": "stdout",
       "text": [
        "UpperLefX: 108280.0\n",
        "\n",
        "w-e pixel resolution(X): 20.0\n",
        "\n",
        "w-e rotation(X): 0.0\n",
        "\n",
        "UpperLefY: 8286620.0\n",
        "\n",
        "n-s rotation(Y): 0.0\n",
        "\n",
        "n-s pixel resolution(Y): -20.0\n",
        "\n"
       ]
      }
     ],
     "prompt_number": 66
    },
    {
     "cell_type": "heading",
     "level": 2,
     "metadata": {},
     "source": [
      "Bands"
     ]
    },
    {
     "cell_type": "code",
     "collapsed": false,
     "input": [
      "print 'Number of bands: {0}'.format( ds.RasterCount )"
     ],
     "language": "python",
     "metadata": {},
     "outputs": [
      {
       "output_type": "stream",
       "stream": "stdout",
       "text": [
        "Number of bands: 3\n"
       ]
      }
     ],
     "prompt_number": 67
    },
    {
     "cell_type": "code",
     "collapsed": false,
     "input": [
      "band1 = ds.GetRasterBand(1)"
     ],
     "language": "python",
     "metadata": {},
     "outputs": [],
     "prompt_number": 68
    },
    {
     "cell_type": "code",
     "collapsed": false,
     "input": [
      "band1.DataType == gdal.GDT_Byte"
     ],
     "language": "python",
     "metadata": {},
     "outputs": [
      {
       "metadata": {},
       "output_type": "pyout",
       "prompt_number": 69,
       "text": [
        "True"
       ]
      }
     ],
     "prompt_number": 69
    },
    {
     "cell_type": "code",
     "collapsed": false,
     "input": [
      "print 'Type of Band 1: {0}'.format( gdal_array.GDALTypeCodeToNumericTypeCode( band1.DataType ) )"
     ],
     "language": "python",
     "metadata": {},
     "outputs": [
      {
       "output_type": "stream",
       "stream": "stdout",
       "text": [
        "Type of Band 1: <type 'numpy.uint8'>\n"
       ]
      }
     ],
     "prompt_number": 70
    },
    {
     "cell_type": "code",
     "collapsed": false,
     "input": [
      "lbs, stats = ('Minimum', 'Maximum', 'Mean', 'StdDev'), list( band1.ComputeRasterMinMax() ) + list( band1.ComputeBandStats() )"
     ],
     "language": "python",
     "metadata": {},
     "outputs": [],
     "prompt_number": 71
    },
    {
     "cell_type": "code",
     "collapsed": false,
     "input": [
      "for i in xrange( len( stats) ):\n",
      "    print \"{0}: {1}\\n\".format( lbs[i], stats[i] )"
     ],
     "language": "python",
     "metadata": {},
     "outputs": [
      {
       "output_type": "stream",
       "stream": "stdout",
       "text": [
        "Minimum: 0.0\n",
        "\n",
        "Maximum: 192.0\n",
        "\n",
        "Mean: 12.23262356\n",
        "\n",
        "StdDev: 9.44539190156\n",
        "\n"
       ]
      }
     ],
     "prompt_number": 72
    },
    {
     "cell_type": "heading",
     "level": 2,
     "metadata": {},
     "source": [
      "Using gdal.Info"
     ]
    },
    {
     "cell_type": "code",
     "collapsed": false,
     "input": [
      "jsInfo = gdal.Info(ds, format='json')"
     ],
     "language": "python",
     "metadata": {},
     "outputs": [],
     "prompt_number": 73
    },
    {
     "cell_type": "code",
     "collapsed": false,
     "input": [
      "print ( len( jsInfo['bands'] ), jsInfo['size'][1], jsInfo['size'][0] )"
     ],
     "language": "python",
     "metadata": {},
     "outputs": [
      {
       "output_type": "stream",
       "stream": "stdout",
       "text": [
        "(3, 6930, 7272)\n"
       ]
      }
     ],
     "prompt_number": 74
    },
    {
     "cell_type": "code",
     "collapsed": false,
     "input": [
      "info = ( jsInfo['description'], jsInfo['driverLongName'], jsInfo['files'] )"
     ],
     "language": "python",
     "metadata": {},
     "outputs": [],
     "prompt_number": 75
    },
    {
     "cell_type": "code",
     "collapsed": false,
     "input": [
      "print '\\n'.join( [ str(i) for i in info ] )"
     ],
     "language": "python",
     "metadata": {},
     "outputs": [
      {
       "output_type": "stream",
       "stream": "stdout",
       "text": [
        "/home/lmotta/data/db_images/cbers/CBERS_4_MUX_20160419_164_118_L4_R7G8B6.tif\n",
        "GeoTIFF\n",
        "[u'/home/lmotta/data/db_images/cbers/CBERS_4_MUX_20160419_164_118_L4_R7G8B6.tif', u'/home/lmotta/data/db_images/cbers/CBERS_4_MUX_20160419_164_118_L4_R7G8B6.tif.aux.xml']\n"
       ]
      }
     ],
     "prompt_number": 76
    },
    {
     "cell_type": "code",
     "collapsed": false,
     "input": [
      "print jsInfo['coordinateSystem']['wkt']"
     ],
     "language": "python",
     "metadata": {},
     "outputs": [
      {
       "output_type": "stream",
       "stream": "stdout",
       "text": [
        "PROJCS[\"WGS 84 / UTM zone 22S\",\n",
        "    GEOGCS[\"WGS 84\",\n",
        "        DATUM[\"WGS_1984\",\n",
        "            SPHEROID[\"WGS 84\",6378137,298.257223563,\n",
        "                AUTHORITY[\"EPSG\",\"7030\"]],\n",
        "            AUTHORITY[\"EPSG\",\"6326\"]],\n",
        "        PRIMEM[\"Greenwich\",0,\n",
        "            AUTHORITY[\"EPSG\",\"8901\"]],\n",
        "        UNIT[\"degree\",0.0174532925199433,\n",
        "            AUTHORITY[\"EPSG\",\"9122\"]],\n",
        "        AUTHORITY[\"EPSG\",\"4326\"]],\n",
        "    PROJECTION[\"Transverse_Mercator\"],\n",
        "    PARAMETER[\"latitude_of_origin\",0],\n",
        "    PARAMETER[\"central_meridian\",-51],\n",
        "    PARAMETER[\"scale_factor\",0.9996],\n",
        "    PARAMETER[\"false_easting\",500000],\n",
        "    PARAMETER[\"false_northing\",10000000],\n",
        "    UNIT[\"metre\",1,\n",
        "        AUTHORITY[\"EPSG\",\"9001\"]],\n",
        "    AXIS[\"Easting\",EAST],\n",
        "    AXIS[\"Northing\",NORTH],\n",
        "    AUTHORITY[\"EPSG\",\"32722\"]]\n"
       ]
      }
     ],
     "prompt_number": 77
    },
    {
     "cell_type": "code",
     "collapsed": false,
     "input": [
      "for k in sorted( jsInfo['cornerCoordinates'].keys() ):\n",
      "    print \"{0}: {1}\".format( k, jsInfo['cornerCoordinates'][k] )"
     ],
     "language": "python",
     "metadata": {},
     "outputs": [
      {
       "output_type": "stream",
       "stream": "stdout",
       "text": [
        "center: [181000.0, 8217320.0]\n",
        "lowerLeft: [108280.0, 8148020.0]\n",
        "lowerRight: [253720.0, 8148020.0]\n",
        "upperLeft: [108280.0, 8286620.0]\n",
        "upperRight: [253720.0, 8286620.0]\n"
       ]
      }
     ],
     "prompt_number": 78
    },
    {
     "cell_type": "code",
     "collapsed": false,
     "input": [
      "keys = sorted( jsInfo['bands'][0].keys() ); keys.remove('band')"
     ],
     "language": "python",
     "metadata": {},
     "outputs": [],
     "prompt_number": 79
    },
    {
     "cell_type": "code",
     "collapsed": false,
     "input": [
      "for ib in jsInfo['bands']:\n",
      "    print \"Band {0}:\".format( ib['band'])\n",
      "    for k in keys:\n",
      "        print \"  {k}: {v}\".format( k=k, v=ib[ k ])"
     ],
     "language": "python",
     "metadata": {},
     "outputs": [
      {
       "output_type": "stream",
       "stream": "stdout",
       "text": [
        "Band 1:\n",
        "  block: [7272, 1]\n",
        "  colorInterpretation: Red\n",
        "  max: 192.0\n",
        "  maximum: 192.0\n",
        "  mean: 12.233\n",
        "  metadata: {u'': {u'STATISTICS_MEAN': u'12.232623559973', u'STATISTICS_MINIMUM': u'0', u'STATISTICS_MAXIMUM': u'192', u'STATISTICS_STDDEV': u'9.4453919015567'}}\n",
        "  min: 0.0\n",
        "  minimum: 0.0\n",
        "  stdDev: 9.445\n",
        "  type: Byte\n",
        "Band 2:\n",
        "  block: [7272, 1]\n",
        "  colorInterpretation: Green\n",
        "  max: 186.0\n",
        "  maximum: 186.0\n",
        "  mean: 34.871\n",
        "  metadata: {u'': {u'STATISTICS_MEAN': u'34.871083120214', u'STATISTICS_MINIMUM': u'0', u'STATISTICS_MAXIMUM': u'186', u'STATISTICS_STDDEV': u'22.925324993063'}}\n",
        "  min: 0.0\n",
        "  minimum: 0.0\n",
        "  stdDev: 22.925\n",
        "  type: Byte\n",
        "Band 3:\n",
        "  block: [7272, 1]\n",
        "  colorInterpretation: Blue\n",
        "  max: 254.0\n",
        "  maximum: 254.0\n",
        "  mean: 17.67\n",
        "  metadata: {u'': {u'STATISTICS_MEAN': u'17.670323460917', u'STATISTICS_MINIMUM': u'0', u'STATISTICS_MAXIMUM': u'254', u'STATISTICS_STDDEV': u'11.580498752338'}}\n",
        "  min: 0.0\n",
        "  minimum: 0.0\n",
        "  stdDev: 11.58\n",
        "  type: Byte\n"
       ]
      }
     ],
     "prompt_number": 80
    },
    {
     "cell_type": "code",
     "collapsed": false,
     "input": [
      "lbs, gt = ('UpperLefX','w-e pixel resolution(X)','w-e rotation(X)','UpperLefY','n-s rotation(Y)','n-s pixel resolution(Y)'),\\\n",
      "jsInfo['geoTransform']"
     ],
     "language": "python",
     "metadata": {},
     "outputs": [],
     "prompt_number": 81
    },
    {
     "cell_type": "code",
     "collapsed": false,
     "input": [
      "for i in xrange( len( gt) ):\n",
      "    print \"{0}: {1}\\n\".format( lbs[i], gt[i] )"
     ],
     "language": "python",
     "metadata": {},
     "outputs": [
      {
       "output_type": "stream",
       "stream": "stdout",
       "text": [
        "UpperLefX: 108280.0\n",
        "\n",
        "w-e pixel resolution(X): 20.0\n",
        "\n",
        "w-e rotation(X): 0.0\n",
        "\n",
        "UpperLefY: 8286620.0\n",
        "\n",
        "n-s rotation(Y): 0.0\n",
        "\n",
        "n-s pixel resolution(Y): -20.0\n",
        "\n"
       ]
      }
     ],
     "prompt_number": 82
    },
    {
     "cell_type": "code",
     "collapsed": false,
     "input": [
      "print jsInfo['wgs84Extent']"
     ],
     "language": "python",
     "metadata": {},
     "outputs": [
      {
       "output_type": "stream",
       "stream": "stdout",
       "text": [
        "{u'type': u'Polygon', u'coordinates': [[[-54.6495781, -15.4676347], [-54.672519, -16.7180531], [-53.2955536, -15.485831], [-53.310007, -16.7378011], [-54.6495781, -15.4676347]]]}\n"
       ]
      }
     ],
     "prompt_number": 83
    },
    {
     "cell_type": "code",
     "collapsed": false,
     "input": [
      "js_to_geojson_io = {\n",
      "  \"type\": \"FeatureCollection\",\n",
      "  \"features\": [\n",
      "    {\n",
      "      \"type\": \"Feature\",\n",
      "      \"properties\": {},\n",
      "      \"geometry\": jsInfo['wgs84Extent']\n",
      "    }\n",
      "  ]\n",
      "}"
     ],
     "language": "python",
     "metadata": {},
     "outputs": [],
     "prompt_number": 84
    },
    {
     "cell_type": "code",
     "collapsed": false,
     "input": [
      "url = \"http://geojson.io/#data=data:application/json,{0}\".format( json.dumps( js_to_geojson_io ) )"
     ],
     "language": "python",
     "metadata": {},
     "outputs": [],
     "prompt_number": 85
    },
    {
     "cell_type": "code",
     "collapsed": false,
     "input": [
      "webbrowser.open( url )  # Open geojson.io"
     ],
     "language": "python",
     "metadata": {},
     "outputs": [
      {
       "metadata": {},
       "output_type": "pyout",
       "prompt_number": 86,
       "text": [
        "True"
       ]
      }
     ],
     "prompt_number": 86
    }
   ],
   "metadata": {}
  }
 ]
}