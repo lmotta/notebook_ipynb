{
 "metadata": {
  "name": "",
  "signature": "sha256:b4fe63ce7a4fc0af73ccf6d9fa9de93cf11a73507d234e0adc087709839909fc"
 },
 "nbformat": 3,
 "nbformat_minor": 0,
 "worksheets": [
  {
   "cells": [
    {
     "cell_type": "heading",
     "level": 1,
     "metadata": {},
     "source": [
      "Information of image"
     ]
    },
    {
     "cell_type": "code",
     "collapsed": false,
     "input": [
      "import json, webbrowser"
     ],
     "language": "python",
     "metadata": {},
     "outputs": [],
     "prompt_number": 142
    },
    {
     "cell_type": "code",
     "collapsed": false,
     "input": [
      "from osgeo import gdal, gdal_array"
     ],
     "language": "python",
     "metadata": {},
     "outputs": [],
     "prompt_number": 5
    },
    {
     "cell_type": "code",
     "collapsed": false,
     "input": [
      "ds = gdal.Open(\"/home/lmotta/data/db_images/cbers/CBERS_4_MUX_20160419_164_118_L4_R7G8B6.tif\")"
     ],
     "language": "python",
     "metadata": {},
     "outputs": [],
     "prompt_number": 6
    },
    {
     "cell_type": "heading",
     "level": 2,
     "metadata": {},
     "source": [
      "Size"
     ]
    },
    {
     "cell_type": "code",
     "collapsed": false,
     "input": [
      "info = ( ds.RasterCount, ds.RasterYSize, ds.RasterXSize )"
     ],
     "language": "python",
     "metadata": {},
     "outputs": [],
     "prompt_number": 92
    },
    {
     "cell_type": "code",
     "collapsed": false,
     "input": [
      "print info"
     ],
     "language": "python",
     "metadata": {},
     "outputs": [
      {
       "output_type": "stream",
       "stream": "stdout",
       "text": [
        "(3, 6930, 7272)\n"
       ]
      }
     ],
     "prompt_number": 93
    },
    {
     "cell_type": "heading",
     "level": 2,
     "metadata": {},
     "source": [
      "Driver and Files "
     ]
    },
    {
     "cell_type": "code",
     "collapsed": false,
     "input": [
      "info = ( ds.GetDescription(),  ds.GetDriver().GetDescription(), ds.GetFileList() )"
     ],
     "language": "python",
     "metadata": {},
     "outputs": [],
     "prompt_number": 37
    },
    {
     "cell_type": "code",
     "collapsed": false,
     "input": [
      "print '\\n'.join( [ str(i) for i in info ] )"
     ],
     "language": "python",
     "metadata": {},
     "outputs": [
      {
       "output_type": "stream",
       "stream": "stdout",
       "text": [
        "/home/lmotta/data/db_images/cbers/CBERS_4_MUX_20160419_164_118_L4_R7G8B6.tif\n",
        "GTiff\n",
        "['/home/lmotta/data/db_images/cbers/CBERS_4_MUX_20160419_164_118_L4_R7G8B6.tif']\n"
       ]
      }
     ],
     "prompt_number": 38
    },
    {
     "cell_type": "heading",
     "level": 2,
     "metadata": {},
     "source": [
      "Georeference"
     ]
    },
    {
     "cell_type": "code",
     "collapsed": false,
     "input": [
      "wktSRS = ds.GetProjectionRef()"
     ],
     "language": "python",
     "metadata": {},
     "outputs": [],
     "prompt_number": 47
    },
    {
     "cell_type": "code",
     "collapsed": false,
     "input": [
      "print wktSRS"
     ],
     "language": "python",
     "metadata": {},
     "outputs": [
      {
       "output_type": "stream",
       "stream": "stdout",
       "text": [
        "PROJCS[\"WGS 84 / UTM zone 22S\",GEOGCS[\"WGS 84\",DATUM[\"WGS_1984\",SPHEROID[\"WGS 84\",6378137,298.257223563,AUTHORITY[\"EPSG\",\"7030\"]],AUTHORITY[\"EPSG\",\"6326\"]],PRIMEM[\"Greenwich\",0,AUTHORITY[\"EPSG\",\"8901\"]],UNIT[\"degree\",0.0174532925199433,AUTHORITY[\"EPSG\",\"9122\"]],AUTHORITY[\"EPSG\",\"4326\"]],PROJECTION[\"Transverse_Mercator\"],PARAMETER[\"latitude_of_origin\",0],PARAMETER[\"central_meridian\",-51],PARAMETER[\"scale_factor\",0.9996],PARAMETER[\"false_easting\",500000],PARAMETER[\"false_northing\",10000000],UNIT[\"metre\",1,AUTHORITY[\"EPSG\",\"9001\"]],AXIS[\"Easting\",EAST],AXIS[\"Northing\",NORTH],AUTHORITY[\"EPSG\",\"32722\"]]\n"
       ]
      }
     ],
     "prompt_number": 48
    },
    {
     "cell_type": "code",
     "collapsed": false,
     "input": [
      "print ds.GetGCPCount()"
     ],
     "language": "python",
     "metadata": {},
     "outputs": [
      {
       "output_type": "stream",
       "stream": "stdout",
       "text": [
        "0\n"
       ]
      }
     ],
     "prompt_number": 49
    },
    {
     "cell_type": "code",
     "collapsed": false,
     "input": [
      "gt = ds.GetGeoTransform()"
     ],
     "language": "python",
     "metadata": {},
     "outputs": [],
     "prompt_number": 51
    },
    {
     "cell_type": "code",
     "collapsed": false,
     "input": [
      "print gt"
     ],
     "language": "python",
     "metadata": {},
     "outputs": [
      {
       "output_type": "stream",
       "stream": "stdout",
       "text": [
        "(108280.0, 20.0, 0.0, 8286620.0, 0.0, -20.0)\n"
       ]
      }
     ],
     "prompt_number": 52
    },
    {
     "cell_type": "code",
     "collapsed": false,
     "input": [
      "lbs = ( 'UpperLefX', 'w-e pixel resolution(X)', 'w-e rotation(X)', 'UpperLefY', 'n-s rotation(Y)', 'n-s pixel resolution(Y)' )"
     ],
     "language": "python",
     "metadata": {},
     "outputs": [],
     "prompt_number": 56
    },
    {
     "cell_type": "code",
     "collapsed": false,
     "input": [
      "for i in xrange( len( gt) ):\n",
      "    print \"{0}: {1}\\n\".format( lbs[i], gt[i] )"
     ],
     "language": "python",
     "metadata": {},
     "outputs": [
      {
       "output_type": "stream",
       "stream": "stdout",
       "text": [
        "UpperLefX: 108280.0\n",
        "\n",
        "w-e pixel resolution(X): 20.0\n",
        "\n",
        "w-e rotation(X): 0.0\n",
        "\n",
        "UpperLefY: 8286620.0\n",
        "\n",
        "n-s rotation(Y): 0.0\n",
        "\n",
        "n-s pixel resolution(Y): -20.0\n",
        "\n"
       ]
      }
     ],
     "prompt_number": 57
    },
    {
     "cell_type": "heading",
     "level": 2,
     "metadata": {},
     "source": [
      "Bands"
     ]
    },
    {
     "cell_type": "code",
     "collapsed": false,
     "input": [
      "print 'Number of bands: {0}'.format( ds.RasterCount )"
     ],
     "language": "python",
     "metadata": {},
     "outputs": [
      {
       "output_type": "stream",
       "stream": "stdout",
       "text": [
        "Number of bands: 3\n"
       ]
      }
     ],
     "prompt_number": 60
    },
    {
     "cell_type": "code",
     "collapsed": false,
     "input": [
      "band1 = ds.GetRasterBand(1)"
     ],
     "language": "python",
     "metadata": {},
     "outputs": [],
     "prompt_number": 61
    },
    {
     "cell_type": "code",
     "collapsed": false,
     "input": [
      "band1.DataType == gdal.GDT_Byte"
     ],
     "language": "python",
     "metadata": {},
     "outputs": [
      {
       "metadata": {},
       "output_type": "pyout",
       "prompt_number": 64,
       "text": [
        "True"
       ]
      }
     ],
     "prompt_number": 64
    },
    {
     "cell_type": "code",
     "collapsed": false,
     "input": [
      "print 'Type of Band 1: {0}'.format( gdal_array.GDALTypeCodeToNumericTypeCode( band1.DataType ) )"
     ],
     "language": "python",
     "metadata": {},
     "outputs": [
      {
       "output_type": "stream",
       "stream": "stdout",
       "text": [
        "Type of Band 1: <type 'numpy.uint8'>\n"
       ]
      }
     ],
     "prompt_number": 65
    },
    {
     "cell_type": "code",
     "collapsed": false,
     "input": [
      "stats = list( band1.ComputeRasterMinMax() )"
     ],
     "language": "python",
     "metadata": {},
     "outputs": [],
     "prompt_number": 86
    },
    {
     "cell_type": "code",
     "collapsed": false,
     "input": [
      "stats += list( band1.ComputeBandStats() )"
     ],
     "language": "python",
     "metadata": {},
     "outputs": [],
     "prompt_number": 87
    },
    {
     "cell_type": "code",
     "collapsed": false,
     "input": [
      "lbs = ( 'Minimum', 'Maximum', 'Mean', 'StdDev' )"
     ],
     "language": "python",
     "metadata": {},
     "outputs": [],
     "prompt_number": 84
    },
    {
     "cell_type": "code",
     "collapsed": false,
     "input": [
      "for i in xrange( len( stats) ):\n",
      "    print \"{0}: {1}\\n\".format( lbs[i], stats[i] )"
     ],
     "language": "python",
     "metadata": {},
     "outputs": [
      {
       "output_type": "stream",
       "stream": "stdout",
       "text": [
        "Minimum: 0.0\n",
        "\n",
        "Maximum: 192.0\n",
        "\n",
        "Mean: 12.23262356\n",
        "\n",
        "StdDev: 9.44539190156\n",
        "\n"
       ]
      }
     ],
     "prompt_number": 88
    },
    {
     "cell_type": "heading",
     "level": 2,
     "metadata": {},
     "source": [
      "Using gdal.Info"
     ]
    },
    {
     "cell_type": "code",
     "collapsed": false,
     "input": [
      "jsInfo = gdal.Info(ds, format='json')"
     ],
     "language": "python",
     "metadata": {},
     "outputs": [],
     "prompt_number": 98
    },
    {
     "cell_type": "code",
     "collapsed": false,
     "input": [
      "print sorted( jsInfo.keys() )"
     ],
     "language": "python",
     "metadata": {},
     "outputs": [
      {
       "output_type": "stream",
       "stream": "stdout",
       "text": [
        "[u'bands', u'coordinateSystem', u'cornerCoordinates', u'description', u'driverLongName', u'driverShortName', u'files', u'geoTransform', u'metadata', u'size', u'wgs84Extent']\n"
       ]
      }
     ],
     "prompt_number": 99
    },
    {
     "cell_type": "code",
     "collapsed": false,
     "input": [
      "print ( len( jsInfo['bands'] ), jsInfo['size'][1], jsInfo['size'][0] )"
     ],
     "language": "python",
     "metadata": {},
     "outputs": [
      {
       "output_type": "stream",
       "stream": "stdout",
       "text": [
        "(3, 6930, 7272)\n"
       ]
      }
     ],
     "prompt_number": 100
    },
    {
     "cell_type": "code",
     "collapsed": false,
     "input": [
      "info = ( jsInfo['description'], jsInfo['driverLongName'], jsInfo['files'] )"
     ],
     "language": "python",
     "metadata": {},
     "outputs": [],
     "prompt_number": 106
    },
    {
     "cell_type": "code",
     "collapsed": false,
     "input": [
      "print '\\n'.join( [ str(i) for i in info ] )"
     ],
     "language": "python",
     "metadata": {},
     "outputs": [
      {
       "output_type": "stream",
       "stream": "stdout",
       "text": [
        "/home/lmotta/data/db_images/cbers/CBERS_4_MUX_20160419_164_118_L4_R7G8B6.tif\n",
        "GeoTIFF\n",
        "[u'/home/lmotta/data/db_images/cbers/CBERS_4_MUX_20160419_164_118_L4_R7G8B6.tif']\n"
       ]
      }
     ],
     "prompt_number": 107
    },
    {
     "cell_type": "code",
     "collapsed": false,
     "input": [
      "print jsInfo['coordinateSystem']['wkt']"
     ],
     "language": "python",
     "metadata": {},
     "outputs": [
      {
       "output_type": "stream",
       "stream": "stdout",
       "text": [
        "PROJCS[\"WGS 84 / UTM zone 22S\",\n",
        "    GEOGCS[\"WGS 84\",\n",
        "        DATUM[\"WGS_1984\",\n",
        "            SPHEROID[\"WGS 84\",6378137,298.257223563,\n",
        "                AUTHORITY[\"EPSG\",\"7030\"]],\n",
        "            AUTHORITY[\"EPSG\",\"6326\"]],\n",
        "        PRIMEM[\"Greenwich\",0,\n",
        "            AUTHORITY[\"EPSG\",\"8901\"]],\n",
        "        UNIT[\"degree\",0.0174532925199433,\n",
        "            AUTHORITY[\"EPSG\",\"9122\"]],\n",
        "        AUTHORITY[\"EPSG\",\"4326\"]],\n",
        "    PROJECTION[\"Transverse_Mercator\"],\n",
        "    PARAMETER[\"latitude_of_origin\",0],\n",
        "    PARAMETER[\"central_meridian\",-51],\n",
        "    PARAMETER[\"scale_factor\",0.9996],\n",
        "    PARAMETER[\"false_easting\",500000],\n",
        "    PARAMETER[\"false_northing\",10000000],\n",
        "    UNIT[\"metre\",1,\n",
        "        AUTHORITY[\"EPSG\",\"9001\"]],\n",
        "    AXIS[\"Easting\",EAST],\n",
        "    AXIS[\"Northing\",NORTH],\n",
        "    AUTHORITY[\"EPSG\",\"32722\"]]\n"
       ]
      }
     ],
     "prompt_number": 112
    },
    {
     "cell_type": "code",
     "collapsed": false,
     "input": [
      "for k in sorted( jsInfo['cornerCoordinates'].keys() ):\n",
      "    print \"{0}: {1}\".format( k, jsInfo['cornerCoordinates'][k] )"
     ],
     "language": "python",
     "metadata": {},
     "outputs": [
      {
       "output_type": "stream",
       "stream": "stdout",
       "text": [
        "center: [181000.0, 8217320.0]\n",
        "lowerLeft: [108280.0, 8148020.0]\n",
        "lowerRight: [253720.0, 8148020.0]\n",
        "upperLeft: [108280.0, 8286620.0]\n",
        "upperRight: [253720.0, 8286620.0]\n"
       ]
      }
     ],
     "prompt_number": 117
    },
    {
     "cell_type": "code",
     "collapsed": false,
     "input": [
      "print jsInfo['bands']"
     ],
     "language": "python",
     "metadata": {},
     "outputs": [
      {
       "output_type": "stream",
       "stream": "stdout",
       "text": [
        "[{u'colorInterpretation': u'Red', u'band': 1, u'type': u'Byte', u'block': [7272, 1], u'metadata': {}}, {u'colorInterpretation': u'Green', u'band': 2, u'type': u'Byte', u'block': [7272, 1], u'metadata': {}}, {u'colorInterpretation': u'Blue', u'band': 3, u'type': u'Byte', u'block': [7272, 1], u'metadata': {}}]\n"
       ]
      }
     ],
     "prompt_number": 149
    },
    {
     "cell_type": "code",
     "collapsed": false,
     "input": [
      "for b in jsInfo['bands']:\n",
      "    print \"Band {0}: {1}\".format( b['band'], b['type'])"
     ],
     "language": "python",
     "metadata": {},
     "outputs": [
      {
       "output_type": "stream",
       "stream": "stdout",
       "text": [
        "Band 1: Byte\n",
        "Band 2: Byte\n",
        "Band 3: Byte\n"
       ]
      }
     ],
     "prompt_number": 151
    },
    {
     "cell_type": "code",
     "collapsed": false,
     "input": [
      "gt = jsInfo['geoTransform']"
     ],
     "language": "python",
     "metadata": {},
     "outputs": [],
     "prompt_number": 153
    },
    {
     "cell_type": "code",
     "collapsed": false,
     "input": [
      "lbs = ( 'UpperLefX', 'w-e pixel resolution(X)', 'w-e rotation(X)', 'UpperLefY', 'n-s rotation(Y)', 'n-s pixel resolution(Y)' )"
     ],
     "language": "python",
     "metadata": {},
     "outputs": [],
     "prompt_number": 154
    },
    {
     "cell_type": "code",
     "collapsed": false,
     "input": [
      "for i in xrange( len( gt) ):\n",
      "    print \"{0}: {1}\\n\".format( lbs[i], gt[i] )"
     ],
     "language": "python",
     "metadata": {},
     "outputs": [
      {
       "output_type": "stream",
       "stream": "stdout",
       "text": [
        "UpperLefX: 108280.0\n",
        "\n",
        "w-e pixel resolution(X): 20.0\n",
        "\n",
        "w-e rotation(X): 0.0\n",
        "\n",
        "UpperLefY: 8286620.0\n",
        "\n",
        "n-s rotation(Y): 0.0\n",
        "\n",
        "n-s pixel resolution(Y): -20.0\n",
        "\n"
       ]
      }
     ],
     "prompt_number": 155
    },
    {
     "cell_type": "code",
     "collapsed": false,
     "input": [
      "jsExtent = jsInfo['wgs84Extent']"
     ],
     "language": "python",
     "metadata": {},
     "outputs": [],
     "prompt_number": 130
    },
    {
     "cell_type": "code",
     "collapsed": false,
     "input": [
      "print jsExtent"
     ],
     "language": "python",
     "metadata": {},
     "outputs": [
      {
       "output_type": "stream",
       "stream": "stdout",
       "text": [
        "{u'type': u'Polygon', u'coordinates': [[[-54.6495781, -15.4676347], [-54.672519, -16.7180531], [-53.2955536, -15.485831], [-53.310007, -16.7378011], [-54.6495781, -15.4676347]]]}\n"
       ]
      }
     ],
     "prompt_number": 133
    },
    {
     "cell_type": "code",
     "collapsed": false,
     "input": [
      "js_to_geojson_io = {\n",
      "  \"type\": \"FeatureCollection\",\n",
      "  \"features\": [\n",
      "    {\n",
      "      \"type\": \"Feature\",\n",
      "      \"properties\": {},\n",
      "      \"geometry\": jsExtent\n",
      "    }\n",
      "  ]\n",
      "}"
     ],
     "language": "python",
     "metadata": {},
     "outputs": [],
     "prompt_number": 135
    },
    {
     "cell_type": "code",
     "collapsed": false,
     "input": [
      "url = \"http://geojson.io/#data=data:application/json,{0}\".format( json.dumps( js_to_geojson_io ) )"
     ],
     "language": "python",
     "metadata": {},
     "outputs": [],
     "prompt_number": 143
    },
    {
     "cell_type": "code",
     "collapsed": false,
     "input": [
      "webbrowser.open( url )  # Open geojson.io"
     ],
     "language": "python",
     "metadata": {},
     "outputs": [
      {
       "metadata": {},
       "output_type": "pyout",
       "prompt_number": 144,
       "text": [
        "True"
       ]
      }
     ],
     "prompt_number": 144
    }
   ],
   "metadata": {}
  }
 ]
}